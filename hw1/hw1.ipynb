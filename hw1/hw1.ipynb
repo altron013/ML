{
 "cells": [
  {
   "cell_type": "code",
   "execution_count": 104,
   "metadata": {},
   "outputs": [],
   "source": [
    "file = open('sentences.txt', 'r')\n",
    "l = file.readlines()\n",
    "file.close()"
   ]
  },
  {
   "cell_type": "code",
   "execution_count": 105,
   "metadata": {},
   "outputs": [],
   "source": [
    "\n",
    "text = []\n",
    "for line in l:\n",
    "    t1 = re.split('[^a-z]', line.lower())\n",
    "    t2 = []\n",
    "    for word in t1:\n",
    "        if word != '':\n",
    "            t2.append(word)\n",
    "    text.append(t2)"
   ]
  },
  {
   "cell_type": "code",
   "execution_count": 106,
   "metadata": {},
   "outputs": [],
   "source": [
    "\n",
    "vse = []\n",
    "for sentence in text:\n",
    "    for word in sentence:\n",
    "        vse.append(word)\n",
    "vse = sorted(set(vse))"
   ]
  },
  {
   "cell_type": "code",
   "execution_count": 113,
   "metadata": {},
   "outputs": [],
   "source": [
    "indeced_words = {}\n",
    "for it in range(len(vse)):\n",
    "    indeced_words[it] = vse[it]\n",
    "\n"
   ]
  },
  {
   "cell_type": "code",
   "execution_count": 114,
   "metadata": {},
   "outputs": [],
   "source": [
    "occur_num = [0] * len(text)\n",
    "for i in range(len(text)):\n",
    "    occur_num[i] = [0] * len(vse)\n"
   ]
  },
  {
   "cell_type": "code",
   "execution_count": 115,
   "metadata": {},
   "outputs": [],
   "source": [
    "for i in range(len(text)):\n",
    "    for j in range(len(vse)):\n",
    "        occur_num[i][j] = text[i].count(indeced_words[j])"
   ]
  },
  {
   "cell_type": "code",
   "execution_count": 116,
   "metadata": {},
   "outputs": [],
   "source": [
    "min1 = 10e9\n",
    "min2 = 10e9\n",
    "index_min1 = 0\n",
    "index_min2 = 0\n",
    "distances = [0]*22\n",
    "for i in range(len(distances)):\n",
    "    distances[i] = ds.cosine(occur_num[0], occur_num[i])\n",
    "    #print(i, distances[i])"
   ]
  },
  {
   "cell_type": "code",
   "execution_count": 117,
   "metadata": {},
   "outputs": [],
   "source": [
    "for i in range(1, len(text)):\n",
    "    if (distances[i] < min1):\n",
    "        min1 = distances[i]\n",
    "        index_min1 = i"
   ]
  },
  {
   "cell_type": "code",
   "execution_count": 118,
   "metadata": {},
   "outputs": [
    {
     "name": "stdout",
     "output_type": "stream",
     "text": [
      "6 4\n"
     ]
    }
   ],
   "source": [
    "for i in range(1, len(text)):\n",
    "    if (distances[i] < min2 and distances[i] > min1):\n",
    "        min2 = distances[i]\n",
    "        index_min2 = i\n",
    "print(index_min1, index_min2)"
   ]
  },
  {
   "cell_type": "code",
   "execution_count": null,
   "metadata": {},
   "outputs": [],
   "source": []
  },
  {
   "cell_type": "code",
   "execution_count": null,
   "metadata": {},
   "outputs": [],
   "source": []
  },
  {
   "cell_type": "code",
   "execution_count": null,
   "metadata": {},
   "outputs": [],
   "source": []
  }
 ],
 "metadata": {
  "kernelspec": {
   "display_name": "Python 3",
   "language": "python",
   "name": "python3"
  },
  "language_info": {
   "codemirror_mode": {
    "name": "ipython",
    "version": 3
   },
   "file_extension": ".py",
   "mimetype": "text/x-python",
   "name": "python",
   "nbconvert_exporter": "python",
   "pygments_lexer": "ipython3",
   "version": "3.8.5"
  }
 },
 "nbformat": 4,
 "nbformat_minor": 4
}
